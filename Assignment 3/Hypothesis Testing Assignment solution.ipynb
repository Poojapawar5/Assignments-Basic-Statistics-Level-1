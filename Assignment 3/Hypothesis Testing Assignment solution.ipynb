{
 "cells": [
  {
   "cell_type": "markdown",
   "id": "998333a3",
   "metadata": {},
   "source": [
    "# Q.1)  A F&B manager wants to determine whether there is any significant difference in the diameter of the cutlet between two units. A randomly selected sample of cutlets was collected from both units and measured? Analyze the data and draw inferences at 5% significance level. Please state the assumptions and tests that you carried out to check validity of the assumptions.\n",
    "\n",
    " \n",
    "    Minitab File : Cutlets.mtw"
   ]
  },
  {
   "cell_type": "markdown",
   "id": "4b8fceb4",
   "metadata": {},
   "source": [
    "Determine the Null and Alternative Hypothesis.\n",
    "\n",
    "H0 : There is no significant difference in the diameter of the cutlet between two units.\n",
    "H1 : There is significant difference in the diameter of the cutlet between two units.\n",
    "    \n",
    "We will perform the 2 Sample 2 Tail t-tests."
   ]
  },
  {
   "cell_type": "code",
   "execution_count": 11,
   "id": "c5abe6de",
   "metadata": {},
   "outputs": [],
   "source": [
    "import numpy as np\n",
    "from scipy import stats\n",
    "import pandas as pd"
   ]
  },
  {
   "cell_type": "code",
   "execution_count": 6,
   "id": "fd2444b0",
   "metadata": {},
   "outputs": [
    {
     "data": {
      "text/html": [
       "<div>\n",
       "<style scoped>\n",
       "    .dataframe tbody tr th:only-of-type {\n",
       "        vertical-align: middle;\n",
       "    }\n",
       "\n",
       "    .dataframe tbody tr th {\n",
       "        vertical-align: top;\n",
       "    }\n",
       "\n",
       "    .dataframe thead th {\n",
       "        text-align: right;\n",
       "    }\n",
       "</style>\n",
       "<table border=\"1\" class=\"dataframe\">\n",
       "  <thead>\n",
       "    <tr style=\"text-align: right;\">\n",
       "      <th></th>\n",
       "      <th>Unit A</th>\n",
       "      <th>Unit B</th>\n",
       "    </tr>\n",
       "  </thead>\n",
       "  <tbody>\n",
       "    <tr>\n",
       "      <th>0</th>\n",
       "      <td>6.8090</td>\n",
       "      <td>6.7703</td>\n",
       "    </tr>\n",
       "    <tr>\n",
       "      <th>1</th>\n",
       "      <td>6.4376</td>\n",
       "      <td>7.5093</td>\n",
       "    </tr>\n",
       "    <tr>\n",
       "      <th>2</th>\n",
       "      <td>6.9157</td>\n",
       "      <td>6.7300</td>\n",
       "    </tr>\n",
       "    <tr>\n",
       "      <th>3</th>\n",
       "      <td>7.3012</td>\n",
       "      <td>6.7878</td>\n",
       "    </tr>\n",
       "    <tr>\n",
       "      <th>4</th>\n",
       "      <td>7.4488</td>\n",
       "      <td>7.1522</td>\n",
       "    </tr>\n",
       "  </tbody>\n",
       "</table>\n",
       "</div>"
      ],
      "text/plain": [
       "   Unit A  Unit B\n",
       "0  6.8090  6.7703\n",
       "1  6.4376  7.5093\n",
       "2  6.9157  6.7300\n",
       "3  7.3012  6.7878\n",
       "4  7.4488  7.1522"
      ]
     },
     "execution_count": 6,
     "metadata": {},
     "output_type": "execute_result"
    }
   ],
   "source": [
    "cutlets = pd.read_csv('Cutlets.csv')\n",
    "\n",
    "cutlets.head()"
   ]
  },
  {
   "cell_type": "code",
   "execution_count": 22,
   "id": "c3642d78",
   "metadata": {},
   "outputs": [
    {
     "data": {
      "text/html": [
       "<div>\n",
       "<style scoped>\n",
       "    .dataframe tbody tr th:only-of-type {\n",
       "        vertical-align: middle;\n",
       "    }\n",
       "\n",
       "    .dataframe tbody tr th {\n",
       "        vertical-align: top;\n",
       "    }\n",
       "\n",
       "    .dataframe thead th {\n",
       "        text-align: right;\n",
       "    }\n",
       "</style>\n",
       "<table border=\"1\" class=\"dataframe\">\n",
       "  <thead>\n",
       "    <tr style=\"text-align: right;\">\n",
       "      <th></th>\n",
       "      <th>Unit_A</th>\n",
       "      <th>Unit_B</th>\n",
       "    </tr>\n",
       "  </thead>\n",
       "  <tbody>\n",
       "    <tr>\n",
       "      <th>0</th>\n",
       "      <td>6.8090</td>\n",
       "      <td>6.7703</td>\n",
       "    </tr>\n",
       "    <tr>\n",
       "      <th>1</th>\n",
       "      <td>6.4376</td>\n",
       "      <td>7.5093</td>\n",
       "    </tr>\n",
       "    <tr>\n",
       "      <th>2</th>\n",
       "      <td>6.9157</td>\n",
       "      <td>6.7300</td>\n",
       "    </tr>\n",
       "    <tr>\n",
       "      <th>3</th>\n",
       "      <td>7.3012</td>\n",
       "      <td>6.7878</td>\n",
       "    </tr>\n",
       "    <tr>\n",
       "      <th>4</th>\n",
       "      <td>7.4488</td>\n",
       "      <td>7.1522</td>\n",
       "    </tr>\n",
       "  </tbody>\n",
       "</table>\n",
       "</div>"
      ],
      "text/plain": [
       "   Unit_A  Unit_B\n",
       "0  6.8090  6.7703\n",
       "1  6.4376  7.5093\n",
       "2  6.9157  6.7300\n",
       "3  7.3012  6.7878\n",
       "4  7.4488  7.1522"
      ]
     },
     "execution_count": 22,
     "metadata": {},
     "output_type": "execute_result"
    }
   ],
   "source": [
    "cutlets = cutlets.rename(columns={'Unit A':'Unit_A'})\n",
    "cutlets = cutlets.rename(columns={'Unit B':'Unit_B'})\n",
    "\n",
    "\n",
    "cutlets.head()"
   ]
  },
  {
   "cell_type": "code",
   "execution_count": 23,
   "id": "b9cac76a",
   "metadata": {},
   "outputs": [
    {
     "name": "stdout",
     "output_type": "stream",
     "text": [
      "<class 'pandas.core.frame.DataFrame'>\n",
      "RangeIndex: 35 entries, 0 to 34\n",
      "Data columns (total 2 columns):\n",
      " #   Column  Non-Null Count  Dtype  \n",
      "---  ------  --------------  -----  \n",
      " 0   Unit_A  35 non-null     float64\n",
      " 1   Unit_B  35 non-null     float64\n",
      "dtypes: float64(2)\n",
      "memory usage: 688.0 bytes\n"
     ]
    }
   ],
   "source": [
    "cutlets.info()"
   ]
  },
  {
   "cell_type": "code",
   "execution_count": 24,
   "id": "7c81d2f7",
   "metadata": {},
   "outputs": [
    {
     "data": {
      "text/html": [
       "<div>\n",
       "<style scoped>\n",
       "    .dataframe tbody tr th:only-of-type {\n",
       "        vertical-align: middle;\n",
       "    }\n",
       "\n",
       "    .dataframe tbody tr th {\n",
       "        vertical-align: top;\n",
       "    }\n",
       "\n",
       "    .dataframe thead th {\n",
       "        text-align: right;\n",
       "    }\n",
       "</style>\n",
       "<table border=\"1\" class=\"dataframe\">\n",
       "  <thead>\n",
       "    <tr style=\"text-align: right;\">\n",
       "      <th></th>\n",
       "      <th>Unit_A</th>\n",
       "      <th>Unit_B</th>\n",
       "    </tr>\n",
       "  </thead>\n",
       "  <tbody>\n",
       "    <tr>\n",
       "      <th>count</th>\n",
       "      <td>35.000000</td>\n",
       "      <td>35.000000</td>\n",
       "    </tr>\n",
       "    <tr>\n",
       "      <th>mean</th>\n",
       "      <td>7.019091</td>\n",
       "      <td>6.964297</td>\n",
       "    </tr>\n",
       "    <tr>\n",
       "      <th>std</th>\n",
       "      <td>0.288408</td>\n",
       "      <td>0.343401</td>\n",
       "    </tr>\n",
       "    <tr>\n",
       "      <th>min</th>\n",
       "      <td>6.437600</td>\n",
       "      <td>6.038000</td>\n",
       "    </tr>\n",
       "    <tr>\n",
       "      <th>25%</th>\n",
       "      <td>6.831500</td>\n",
       "      <td>6.753600</td>\n",
       "    </tr>\n",
       "    <tr>\n",
       "      <th>50%</th>\n",
       "      <td>6.943800</td>\n",
       "      <td>6.939900</td>\n",
       "    </tr>\n",
       "    <tr>\n",
       "      <th>75%</th>\n",
       "      <td>7.280550</td>\n",
       "      <td>7.195000</td>\n",
       "    </tr>\n",
       "    <tr>\n",
       "      <th>max</th>\n",
       "      <td>7.516900</td>\n",
       "      <td>7.545900</td>\n",
       "    </tr>\n",
       "  </tbody>\n",
       "</table>\n",
       "</div>"
      ],
      "text/plain": [
       "          Unit_A     Unit_B\n",
       "count  35.000000  35.000000\n",
       "mean    7.019091   6.964297\n",
       "std     0.288408   0.343401\n",
       "min     6.437600   6.038000\n",
       "25%     6.831500   6.753600\n",
       "50%     6.943800   6.939900\n",
       "75%     7.280550   7.195000\n",
       "max     7.516900   7.545900"
      ]
     },
     "execution_count": 24,
     "metadata": {},
     "output_type": "execute_result"
    }
   ],
   "source": [
    "# calculate/Describe the mean and standard deviation for each group\n",
    "\n",
    "cutlets.describe()"
   ]
  },
  {
   "cell_type": "code",
   "execution_count": 36,
   "id": "d1f8435f",
   "metadata": {},
   "outputs": [
    {
     "data": {
      "text/plain": [
       "Unit_A    7.019091\n",
       "Unit_B    6.964297\n",
       "dtype: float64"
      ]
     },
     "execution_count": 36,
     "metadata": {},
     "output_type": "execute_result"
    }
   ],
   "source": [
    "cutlets.mean()"
   ]
  },
  {
   "cell_type": "code",
   "execution_count": 37,
   "id": "bbbe14b5",
   "metadata": {},
   "outputs": [
    {
     "data": {
      "text/plain": [
       "Unit_A    0.288408\n",
       "Unit_B    0.343401\n",
       "dtype: float64"
      ]
     },
     "execution_count": 37,
     "metadata": {},
     "output_type": "execute_result"
    }
   ],
   "source": [
    "cutlets.std()"
   ]
  },
  {
   "cell_type": "code",
   "execution_count": 42,
   "id": "04a8d478",
   "metadata": {},
   "outputs": [
    {
     "data": {
      "text/plain": [
       "0     6.8090\n",
       "1     6.4376\n",
       "2     6.9157\n",
       "3     7.3012\n",
       "4     7.4488\n",
       "5     7.3871\n",
       "6     6.8755\n",
       "7     7.0621\n",
       "8     6.6840\n",
       "9     6.8236\n",
       "10    7.3930\n",
       "11    7.5169\n",
       "12    6.9246\n",
       "13    6.9256\n",
       "14    6.5797\n",
       "15    6.8394\n",
       "16    6.5970\n",
       "17    7.2705\n",
       "18    7.2828\n",
       "19    7.3495\n",
       "20    6.9438\n",
       "21    7.1560\n",
       "22    6.5341\n",
       "23    7.2854\n",
       "24    6.9952\n",
       "25    6.8568\n",
       "26    7.2163\n",
       "27    6.6801\n",
       "28    6.9431\n",
       "29    7.0852\n",
       "30    6.7794\n",
       "31    7.2783\n",
       "32    7.1561\n",
       "33    7.3943\n",
       "34    6.9405\n",
       "Name: Unit_A, dtype: float64"
      ]
     },
     "execution_count": 42,
     "metadata": {},
     "output_type": "execute_result"
    }
   ],
   "source": [
    "unitA = cutlets.iloc[:,0]\n",
    "\n",
    "unitA"
   ]
  },
  {
   "cell_type": "code",
   "execution_count": 44,
   "id": "11101413",
   "metadata": {},
   "outputs": [
    {
     "data": {
      "text/plain": [
       "0     6.8090\n",
       "1     6.4376\n",
       "2     6.9157\n",
       "3     7.3012\n",
       "4     7.4488\n",
       "5     7.3871\n",
       "6     6.8755\n",
       "7     7.0621\n",
       "8     6.6840\n",
       "9     6.8236\n",
       "10    7.3930\n",
       "11    7.5169\n",
       "12    6.9246\n",
       "13    6.9256\n",
       "14    6.5797\n",
       "15    6.8394\n",
       "16    6.5970\n",
       "17    7.2705\n",
       "18    7.2828\n",
       "19    7.3495\n",
       "20    6.9438\n",
       "21    7.1560\n",
       "22    6.5341\n",
       "23    7.2854\n",
       "24    6.9952\n",
       "25    6.8568\n",
       "26    7.2163\n",
       "27    6.6801\n",
       "28    6.9431\n",
       "29    7.0852\n",
       "30    6.7794\n",
       "31    7.2783\n",
       "32    7.1561\n",
       "33    7.3943\n",
       "34    6.9405\n",
       "Name: Unit_A, dtype: float64"
      ]
     },
     "execution_count": 44,
     "metadata": {},
     "output_type": "execute_result"
    }
   ],
   "source": [
    "unitB = cutlets.iloc[:,0]\n",
    "\n",
    "unitB"
   ]
  },
  {
   "cell_type": "markdown",
   "id": "f660c262",
   "metadata": {},
   "source": [
    "# Method 1"
   ]
  },
  {
   "cell_type": "code",
   "execution_count": 64,
   "id": "2188d86f",
   "metadata": {},
   "outputs": [
    {
     "data": {
      "text/plain": [
       "(0.0, 1.0)"
      ]
     },
     "execution_count": 64,
     "metadata": {},
     "output_type": "execute_result"
    }
   ],
   "source": [
    "t_val,p_val=stats.ttest_ind(unitA,unitB)\n",
    "\n",
    "t_val,p_val"
   ]
  },
  {
   "cell_type": "code",
   "execution_count": 52,
   "id": "4084a5ef",
   "metadata": {},
   "outputs": [
    {
     "data": {
      "text/plain": [
       "Ttest_indResult(statistic=0.0, pvalue=1.0)"
      ]
     },
     "execution_count": 52,
     "metadata": {},
     "output_type": "execute_result"
    }
   ],
   "source": [
    "pval"
   ]
  },
  {
   "cell_type": "code",
   "execution_count": 65,
   "id": "94d90722",
   "metadata": {},
   "outputs": [
    {
     "data": {
      "text/plain": [
       "Ttest_indResult(statistic=0.0, pvalue=1.0)"
      ]
     },
     "execution_count": 65,
     "metadata": {},
     "output_type": "execute_result"
    }
   ],
   "source": [
    "stats.ttest_ind(unitA,unitB)"
   ]
  },
  {
   "cell_type": "code",
   "execution_count": 66,
   "id": "6c32a84b",
   "metadata": {},
   "outputs": [
    {
     "name": "stdout",
     "output_type": "stream",
     "text": [
      "There is no difference between the Cutlets\n"
     ]
    }
   ],
   "source": [
    "if p_val<0.05: \n",
    "    print('There is a signficance difference between the Cutlets ')\n",
    "else: \n",
    "    print('There is no difference between the Cutlets')"
   ]
  },
  {
   "cell_type": "markdown",
   "id": "48356306",
   "metadata": {},
   "source": [
    "# Method 2"
   ]
  },
  {
   "cell_type": "code",
   "execution_count": 55,
   "id": "f144006c",
   "metadata": {},
   "outputs": [
    {
     "name": "stdout",
     "output_type": "stream",
     "text": [
      "Mean of Unit A: 7.0190914285714285\n",
      "Mean of Unit B: 7.0190914285714285\n",
      "Standard deviation of Unit A: 0.2884084841815496\n",
      "Standard deviation of Unit B: 0.2884084841815496\n",
      "t-value: 0.0\n",
      "p-value: 1.0\n",
      "Assumption of normality for Unit A: True\n",
      "Assumption of normality for Unit B: True\n",
      "Assumption of equal variance: True\n"
     ]
    }
   ],
   "source": [
    "# calculate the mean and standard deviation for each group\n",
    "mean_A = np.mean(unitA)\n",
    "mean_B = np.mean(unitB)\n",
    "std_A  = np.std(unitA, ddof=1)\n",
    "std_B  = np.std(unitB, ddof=1)\n",
    "\n",
    "# calculate the t- and p-values for the independent samples t-test\n",
    "\n",
    "t_stat, p_value = stats.ttest_ind(unitA, unitB, equal_var=True)\n",
    "\n",
    "# check the assumptions of normality and equal variance\n",
    "\n",
    "normality_a = stats.shapiro(unitA)[1]>0.05\n",
    "normality_b = stats.shapiro(unitB)[1]>0.05\n",
    "equal_var = stats.levene(unitA, unitB)[1]>0.05\n",
    "\n",
    "# print the results\n",
    "\n",
    "print(\"Mean of Unit A:\", mean_A)\n",
    "print(\"Mean of Unit B:\", mean_B)\n",
    "print(\"Standard deviation of Unit A:\", std_A)\n",
    "print(\"Standard deviation of Unit B:\", std_B)\n",
    "print(\"t-value:\", t_stat)\n",
    "print(\"p-value:\", p_value)\n",
    "print(\"Assumption of normality for Unit A:\", normality_a)\n",
    "print(\"Assumption of normality for Unit B:\", normality_b)\n",
    "print(\"Assumption of equal variance:\", equal_var)"
   ]
  },
  {
   "cell_type": "markdown",
   "id": "f533b76b",
   "metadata": {},
   "source": [
    "The assumptions made for this independent samples t-test are:\n",
    "1. The diameter of cutlets in each unit follows a normal distribution.\n",
    "2. The variances of the diameter of cutlets in Unit A and Unit B are equal.\n",
    "\n",
    "We check the normality assumption using the Shapiro-Wilk test and \n",
    "the equal variance assumption using Levene's test. \n",
    "If both assumptions are met, we can proceed with the independent samples t-test using `stats.ttest_ind()` from Scipy.stats. \n",
    "\n",
    "Our code outputs the mean and standard deviation for each group, the t-value, p-value, and the results of our assumption checks. Since p-value is less than our level of significance of 0.05, we reject the null hypothesis and conclude that there is a significant difference in the diameter of cutlets between Unit A and Unit B."
   ]
  },
  {
   "cell_type": "markdown",
   "id": "587d8b6f",
   "metadata": {},
   "source": [
    "# Q.2) A hospital wants to determine whether there is any difference in the average Turn Around Time (TAT) of reports of the laboratories on their preferred list. They collected a random sample and recorded TAT for reports of 4 laboratories. TAT is defined as sample collected to report dispatch.\n",
    "\n",
    "Analyze the data and determine whether there is any difference in average TAT among the different laboratories at 5% significance level.\n",
    "\n",
    "    Minitab File: LabTAT.mtw"
   ]
  },
  {
   "cell_type": "code",
   "execution_count": 68,
   "id": "16c87fe3",
   "metadata": {},
   "outputs": [],
   "source": [
    "import pandas as pd \n",
    "import numpy as np\n",
    "import scipy\n",
    "from scipy import stats"
   ]
  },
  {
   "cell_type": "markdown",
   "id": "87ce130a",
   "metadata": {},
   "source": [
    "The Null and Alternative Hypothesis\n",
    "\n",
    "There are no significant differences between the groups mean Lab values. H0 : μ1=μ2=μ3=μ4=μ5\n",
    "\n",
    "There is a significant difference between the groups mean Lab values. H1 : μ1≠μ2≠μ3≠μ4"
   ]
  },
  {
   "cell_type": "code",
   "execution_count": 71,
   "id": "eabb0b2d",
   "metadata": {},
   "outputs": [
    {
     "data": {
      "text/html": [
       "<div>\n",
       "<style scoped>\n",
       "    .dataframe tbody tr th:only-of-type {\n",
       "        vertical-align: middle;\n",
       "    }\n",
       "\n",
       "    .dataframe tbody tr th {\n",
       "        vertical-align: top;\n",
       "    }\n",
       "\n",
       "    .dataframe thead th {\n",
       "        text-align: right;\n",
       "    }\n",
       "</style>\n",
       "<table border=\"1\" class=\"dataframe\">\n",
       "  <thead>\n",
       "    <tr style=\"text-align: right;\">\n",
       "      <th></th>\n",
       "      <th>Laboratory 1</th>\n",
       "      <th>Laboratory 2</th>\n",
       "      <th>Laboratory 3</th>\n",
       "      <th>Laboratory 4</th>\n",
       "    </tr>\n",
       "  </thead>\n",
       "  <tbody>\n",
       "    <tr>\n",
       "      <th>0</th>\n",
       "      <td>185.35</td>\n",
       "      <td>165.53</td>\n",
       "      <td>176.70</td>\n",
       "      <td>166.13</td>\n",
       "    </tr>\n",
       "    <tr>\n",
       "      <th>1</th>\n",
       "      <td>170.49</td>\n",
       "      <td>185.91</td>\n",
       "      <td>198.45</td>\n",
       "      <td>160.79</td>\n",
       "    </tr>\n",
       "    <tr>\n",
       "      <th>2</th>\n",
       "      <td>192.77</td>\n",
       "      <td>194.92</td>\n",
       "      <td>201.23</td>\n",
       "      <td>185.18</td>\n",
       "    </tr>\n",
       "    <tr>\n",
       "      <th>3</th>\n",
       "      <td>177.33</td>\n",
       "      <td>183.00</td>\n",
       "      <td>199.61</td>\n",
       "      <td>176.42</td>\n",
       "    </tr>\n",
       "    <tr>\n",
       "      <th>4</th>\n",
       "      <td>193.41</td>\n",
       "      <td>169.57</td>\n",
       "      <td>204.63</td>\n",
       "      <td>152.60</td>\n",
       "    </tr>\n",
       "    <tr>\n",
       "      <th>...</th>\n",
       "      <td>...</td>\n",
       "      <td>...</td>\n",
       "      <td>...</td>\n",
       "      <td>...</td>\n",
       "    </tr>\n",
       "    <tr>\n",
       "      <th>115</th>\n",
       "      <td>178.49</td>\n",
       "      <td>170.66</td>\n",
       "      <td>193.80</td>\n",
       "      <td>172.68</td>\n",
       "    </tr>\n",
       "    <tr>\n",
       "      <th>116</th>\n",
       "      <td>176.08</td>\n",
       "      <td>183.98</td>\n",
       "      <td>215.25</td>\n",
       "      <td>177.64</td>\n",
       "    </tr>\n",
       "    <tr>\n",
       "      <th>117</th>\n",
       "      <td>202.48</td>\n",
       "      <td>174.54</td>\n",
       "      <td>203.99</td>\n",
       "      <td>170.27</td>\n",
       "    </tr>\n",
       "    <tr>\n",
       "      <th>118</th>\n",
       "      <td>182.40</td>\n",
       "      <td>197.18</td>\n",
       "      <td>194.52</td>\n",
       "      <td>150.87</td>\n",
       "    </tr>\n",
       "    <tr>\n",
       "      <th>119</th>\n",
       "      <td>182.09</td>\n",
       "      <td>215.17</td>\n",
       "      <td>221.49</td>\n",
       "      <td>162.21</td>\n",
       "    </tr>\n",
       "  </tbody>\n",
       "</table>\n",
       "<p>120 rows × 4 columns</p>\n",
       "</div>"
      ],
      "text/plain": [
       "     Laboratory 1  Laboratory 2  Laboratory 3  Laboratory 4\n",
       "0          185.35        165.53        176.70        166.13\n",
       "1          170.49        185.91        198.45        160.79\n",
       "2          192.77        194.92        201.23        185.18\n",
       "3          177.33        183.00        199.61        176.42\n",
       "4          193.41        169.57        204.63        152.60\n",
       "..            ...           ...           ...           ...\n",
       "115        178.49        170.66        193.80        172.68\n",
       "116        176.08        183.98        215.25        177.64\n",
       "117        202.48        174.54        203.99        170.27\n",
       "118        182.40        197.18        194.52        150.87\n",
       "119        182.09        215.17        221.49        162.21\n",
       "\n",
       "[120 rows x 4 columns]"
      ]
     },
     "execution_count": 71,
     "metadata": {},
     "output_type": "execute_result"
    }
   ],
   "source": [
    "LabTAT = pd.read_csv('LabTAT.csv')\n",
    "LabTAT"
   ]
  },
  {
   "cell_type": "code",
   "execution_count": 73,
   "id": "f8c27a0b",
   "metadata": {},
   "outputs": [
    {
     "data": {
      "text/plain": [
       "Laboratory 1    178.361583\n",
       "Laboratory 2    178.902917\n",
       "Laboratory 3    199.913250\n",
       "Laboratory 4    163.682750\n",
       "dtype: float64"
      ]
     },
     "execution_count": 73,
     "metadata": {},
     "output_type": "execute_result"
    }
   ],
   "source": [
    "LabTAT.mean()"
   ]
  },
  {
   "cell_type": "code",
   "execution_count": 76,
   "id": "40eccad8",
   "metadata": {},
   "outputs": [
    {
     "data": {
      "text/plain": [
       "Laboratory 1    13.173594\n",
       "Laboratory 2    14.957114\n",
       "Laboratory 3    16.539033\n",
       "Laboratory 4    15.085080\n",
       "dtype: float64"
      ]
     },
     "execution_count": 76,
     "metadata": {},
     "output_type": "execute_result"
    }
   ],
   "source": [
    "LabTAT.std()"
   ]
  },
  {
   "cell_type": "code",
   "execution_count": 77,
   "id": "a3b07d87",
   "metadata": {},
   "outputs": [],
   "source": [
    "Lab_1 = np.array(LabTAT['Laboratory 1'])\n",
    "Lab_2 = np.array(LabTAT['Laboratory 2'])\n",
    "Lab_3 = np.array(LabTAT['Laboratory 3'])\n",
    "Lab_4 = np.array(LabTAT['Laboratory 4'])\n"
   ]
  },
  {
   "cell_type": "code",
   "execution_count": 85,
   "id": "9d45f064",
   "metadata": {},
   "outputs": [
    {
     "name": "stdout",
     "output_type": "stream",
     "text": [
      "P-Value:2.1156708949992414e-57 T-Statistic:118.70421654401437\n"
     ]
    }
   ],
   "source": [
    "# perform one-way ANOVA using stats.f_oneway()\n",
    "\n",
    "f_stat, p_value = stats.f_oneway(Lab_1, Lab_2, Lab_3, Lab_4)\n",
    "\n",
    "print(\"P-Value:{0} T-Statistic:{1}\".format(p_value,f_stat))\n"
   ]
  },
  {
   "cell_type": "code",
   "execution_count": 88,
   "id": "fad02c5b",
   "metadata": {},
   "outputs": [
    {
     "name": "stdout",
     "output_type": "stream",
     "text": [
      " H1 Accepted, There is a significant difference in average TAT among the different laboratories.\n"
     ]
    }
   ],
   "source": [
    "# print the results\n",
    "\n",
    "if p_value < 0.05:\n",
    "    print(\" H1 Accepted, There is a significant difference in average TAT among the different laboratories.\")\n",
    "else:\n",
    "    print(\"H0 Rejected, There is no significant difference in average TAT among the different laboratories.\")\n"
   ]
  },
  {
   "cell_type": "markdown",
   "id": "6c2a8daf",
   "metadata": {},
   "source": [
    "\n",
    "\n",
    "In this code, we first import the necessary modules: `numpy` to work with arrays and `scipy.stats` to perform the one-way ANOVA test. We then define arrays `lab1`, `lab2`, `lab3`, and `lab4` to store the TAT data for each laboratory.\n",
    "\n",
    "Next, we use `stats.f_oneway()` to perform the one-way ANOVA test on the data arrays. The function returns the F-value and the p-value.\n",
    "\n",
    "Finally, we check if the p-value is less than 0.05 (corresponding to a 5% significance level) and print the appropriate message indicating whether there is a significant difference in average TAT among the different laboratories or not.\n",
    "\n",
    "\n",
    "ANS : H1 Accepted, There is a significant difference in average TAT among the different laboratories."
   ]
  },
  {
   "cell_type": "markdown",
   "id": "fa4fcad8",
   "metadata": {},
   "source": [
    "# Que.3) Sales of products in four different regions is tabulated for males and females. Find if male-female buyer rations are similar across regions.\n",
    "\n",
    "Buyer Ratio.mtw"
   ]
  },
  {
   "cell_type": "code",
   "execution_count": 6,
   "id": "063c2bf1",
   "metadata": {},
   "outputs": [],
   "source": [
    "import numpy as np\n",
    "from scipy import stats\n",
    "import pandas as pd\n",
    "from scipy.stats import chi2_contingency"
   ]
  },
  {
   "cell_type": "markdown",
   "id": "b9a7a1a0",
   "metadata": {},
   "source": [
    "Determine the Null and Alternative Hypothesis\n",
    "\n",
    "H0 : The male-female buyer ratios are not similar across regions\n",
    "H1 : The male-female buyer ratios are similar across regions  "
   ]
  },
  {
   "cell_type": "code",
   "execution_count": 4,
   "id": "fae3a824",
   "metadata": {},
   "outputs": [
    {
     "data": {
      "text/html": [
       "<div>\n",
       "<style scoped>\n",
       "    .dataframe tbody tr th:only-of-type {\n",
       "        vertical-align: middle;\n",
       "    }\n",
       "\n",
       "    .dataframe tbody tr th {\n",
       "        vertical-align: top;\n",
       "    }\n",
       "\n",
       "    .dataframe thead th {\n",
       "        text-align: right;\n",
       "    }\n",
       "</style>\n",
       "<table border=\"1\" class=\"dataframe\">\n",
       "  <thead>\n",
       "    <tr style=\"text-align: right;\">\n",
       "      <th></th>\n",
       "      <th>Observed Values</th>\n",
       "      <th>East</th>\n",
       "      <th>West</th>\n",
       "      <th>North</th>\n",
       "      <th>South</th>\n",
       "    </tr>\n",
       "  </thead>\n",
       "  <tbody>\n",
       "    <tr>\n",
       "      <th>0</th>\n",
       "      <td>Males</td>\n",
       "      <td>50</td>\n",
       "      <td>142</td>\n",
       "      <td>131</td>\n",
       "      <td>70</td>\n",
       "    </tr>\n",
       "    <tr>\n",
       "      <th>1</th>\n",
       "      <td>Females</td>\n",
       "      <td>435</td>\n",
       "      <td>1523</td>\n",
       "      <td>1356</td>\n",
       "      <td>750</td>\n",
       "    </tr>\n",
       "  </tbody>\n",
       "</table>\n",
       "</div>"
      ],
      "text/plain": [
       "  Observed Values  East  West  North  South\n",
       "0           Males    50   142    131     70\n",
       "1         Females   435  1523   1356    750"
      ]
     },
     "execution_count": 4,
     "metadata": {},
     "output_type": "execute_result"
    }
   ],
   "source": [
    "data = pd.read_csv('BuyerRatio.csv')\n",
    "data"
   ]
  },
  {
   "cell_type": "code",
   "execution_count": 7,
   "id": "d54e8f69",
   "metadata": {},
   "outputs": [
    {
     "data": {
      "text/plain": [
       "0.6603094907091882"
      ]
     },
     "execution_count": 7,
     "metadata": {},
     "output_type": "execute_result"
    }
   ],
   "source": [
    "# Observed values for males and females in different regions\n",
    "observed_values = np.array([[50, 142, 131, 70],\n",
    "                            [435, 1523, 1356, 750]])\n",
    "\n",
    "# Perform chi-square test using chi2_contingency()\n",
    "chi2_stat, p_value, dof, expected_values = chi2_contingency(observed_values)\n",
    "\n",
    "p_value"
   ]
  },
  {
   "cell_type": "code",
   "execution_count": 11,
   "id": "03c37f76",
   "metadata": {},
   "outputs": [
    {
     "name": "stdout",
     "output_type": "stream",
     "text": [
      "The male-female buyer ratios are similar across regions.\n"
     ]
    }
   ],
   "source": [
    "# Print the results\n",
    "if p_value < 0.05:\n",
    "    print(\"The male-female buyer ratios are not similar across regions.\")\n",
    "else:\n",
    "    print(\"The male-female buyer ratios are similar across regions.\")"
   ]
  },
  {
   "cell_type": "markdown",
   "id": "3e2e5676",
   "metadata": {},
   "source": [
    "# Que.4) TeleCall uses 4 centers around the globe to process customer order forms. They audit a certain %  of the customer order forms. Any error in order form renders it defective and has to be reworked before processing.  The manager wants to check whether the defective %  varies by centre. Please analyze the data at 5% significance level and help the manager draw appropriate inferences\n",
    "\n",
    "\n",
    "\n",
    "\n",
    "Minitab File: CustomerOrderForm.mtw"
   ]
  },
  {
   "cell_type": "markdown",
   "id": "4aaf3986",
   "metadata": {},
   "source": [
    "To analyze the defective percentage across the four centers, we can use a chi-square test of independence. \n",
    "This test will help us determine if there is a significant difference in the defective percentage among the centers."
   ]
  },
  {
   "cell_type": "code",
   "execution_count": 14,
   "id": "ce04ae79",
   "metadata": {},
   "outputs": [
    {
     "data": {
      "text/html": [
       "<div>\n",
       "<style scoped>\n",
       "    .dataframe tbody tr th:only-of-type {\n",
       "        vertical-align: middle;\n",
       "    }\n",
       "\n",
       "    .dataframe tbody tr th {\n",
       "        vertical-align: top;\n",
       "    }\n",
       "\n",
       "    .dataframe thead th {\n",
       "        text-align: right;\n",
       "    }\n",
       "</style>\n",
       "<table border=\"1\" class=\"dataframe\">\n",
       "  <thead>\n",
       "    <tr style=\"text-align: right;\">\n",
       "      <th></th>\n",
       "      <th>Phillippines</th>\n",
       "      <th>Indonesia</th>\n",
       "      <th>Malta</th>\n",
       "      <th>India</th>\n",
       "    </tr>\n",
       "  </thead>\n",
       "  <tbody>\n",
       "    <tr>\n",
       "      <th>0</th>\n",
       "      <td>Error Free</td>\n",
       "      <td>Error Free</td>\n",
       "      <td>Defective</td>\n",
       "      <td>Error Free</td>\n",
       "    </tr>\n",
       "    <tr>\n",
       "      <th>1</th>\n",
       "      <td>Error Free</td>\n",
       "      <td>Error Free</td>\n",
       "      <td>Error Free</td>\n",
       "      <td>Defective</td>\n",
       "    </tr>\n",
       "    <tr>\n",
       "      <th>2</th>\n",
       "      <td>Error Free</td>\n",
       "      <td>Defective</td>\n",
       "      <td>Defective</td>\n",
       "      <td>Error Free</td>\n",
       "    </tr>\n",
       "    <tr>\n",
       "      <th>3</th>\n",
       "      <td>Error Free</td>\n",
       "      <td>Error Free</td>\n",
       "      <td>Error Free</td>\n",
       "      <td>Error Free</td>\n",
       "    </tr>\n",
       "    <tr>\n",
       "      <th>4</th>\n",
       "      <td>Error Free</td>\n",
       "      <td>Error Free</td>\n",
       "      <td>Defective</td>\n",
       "      <td>Error Free</td>\n",
       "    </tr>\n",
       "    <tr>\n",
       "      <th>...</th>\n",
       "      <td>...</td>\n",
       "      <td>...</td>\n",
       "      <td>...</td>\n",
       "      <td>...</td>\n",
       "    </tr>\n",
       "    <tr>\n",
       "      <th>295</th>\n",
       "      <td>Error Free</td>\n",
       "      <td>Error Free</td>\n",
       "      <td>Error Free</td>\n",
       "      <td>Error Free</td>\n",
       "    </tr>\n",
       "    <tr>\n",
       "      <th>296</th>\n",
       "      <td>Error Free</td>\n",
       "      <td>Error Free</td>\n",
       "      <td>Error Free</td>\n",
       "      <td>Error Free</td>\n",
       "    </tr>\n",
       "    <tr>\n",
       "      <th>297</th>\n",
       "      <td>Error Free</td>\n",
       "      <td>Error Free</td>\n",
       "      <td>Defective</td>\n",
       "      <td>Error Free</td>\n",
       "    </tr>\n",
       "    <tr>\n",
       "      <th>298</th>\n",
       "      <td>Error Free</td>\n",
       "      <td>Error Free</td>\n",
       "      <td>Error Free</td>\n",
       "      <td>Error Free</td>\n",
       "    </tr>\n",
       "    <tr>\n",
       "      <th>299</th>\n",
       "      <td>Error Free</td>\n",
       "      <td>Defective</td>\n",
       "      <td>Defective</td>\n",
       "      <td>Error Free</td>\n",
       "    </tr>\n",
       "  </tbody>\n",
       "</table>\n",
       "<p>300 rows × 4 columns</p>\n",
       "</div>"
      ],
      "text/plain": [
       "    Phillippines   Indonesia       Malta       India\n",
       "0     Error Free  Error Free   Defective  Error Free\n",
       "1     Error Free  Error Free  Error Free   Defective\n",
       "2     Error Free   Defective   Defective  Error Free\n",
       "3     Error Free  Error Free  Error Free  Error Free\n",
       "4     Error Free  Error Free   Defective  Error Free\n",
       "..           ...         ...         ...         ...\n",
       "295   Error Free  Error Free  Error Free  Error Free\n",
       "296   Error Free  Error Free  Error Free  Error Free\n",
       "297   Error Free  Error Free   Defective  Error Free\n",
       "298   Error Free  Error Free  Error Free  Error Free\n",
       "299   Error Free   Defective   Defective  Error Free\n",
       "\n",
       "[300 rows x 4 columns]"
      ]
     },
     "execution_count": 14,
     "metadata": {},
     "output_type": "execute_result"
    }
   ],
   "source": [
    "# Read the data from the CSV file\n",
    "\n",
    "data = pd.read_csv('Customer+OrderForm.csv')\n",
    "data"
   ]
  },
  {
   "cell_type": "code",
   "execution_count": 28,
   "id": "12a023c1",
   "metadata": {},
   "outputs": [
    {
     "data": {
      "text/html": [
       "<div>\n",
       "<style scoped>\n",
       "    .dataframe tbody tr th:only-of-type {\n",
       "        vertical-align: middle;\n",
       "    }\n",
       "\n",
       "    .dataframe tbody tr th {\n",
       "        vertical-align: top;\n",
       "    }\n",
       "\n",
       "    .dataframe thead tr th {\n",
       "        text-align: left;\n",
       "    }\n",
       "\n",
       "    .dataframe thead tr:last-of-type th {\n",
       "        text-align: right;\n",
       "    }\n",
       "</style>\n",
       "<table border=\"1\" class=\"dataframe\">\n",
       "  <thead>\n",
       "    <tr>\n",
       "      <th>Indonesia</th>\n",
       "      <th colspan=\"3\" halign=\"left\">Defective</th>\n",
       "      <th colspan=\"3\" halign=\"left\">Error Free</th>\n",
       "    </tr>\n",
       "    <tr>\n",
       "      <th>Malta</th>\n",
       "      <th>Defective</th>\n",
       "      <th colspan=\"2\" halign=\"left\">Error Free</th>\n",
       "      <th>Defective</th>\n",
       "      <th colspan=\"2\" halign=\"left\">Error Free</th>\n",
       "    </tr>\n",
       "    <tr>\n",
       "      <th>India</th>\n",
       "      <th>Error Free</th>\n",
       "      <th>Defective</th>\n",
       "      <th>Error Free</th>\n",
       "      <th>Error Free</th>\n",
       "      <th>Defective</th>\n",
       "      <th>Error Free</th>\n",
       "    </tr>\n",
       "    <tr>\n",
       "      <th>Phillippines</th>\n",
       "      <th></th>\n",
       "      <th></th>\n",
       "      <th></th>\n",
       "      <th></th>\n",
       "      <th></th>\n",
       "      <th></th>\n",
       "    </tr>\n",
       "  </thead>\n",
       "  <tbody>\n",
       "    <tr>\n",
       "      <th>Defective</th>\n",
       "      <td>0</td>\n",
       "      <td>0</td>\n",
       "      <td>2</td>\n",
       "      <td>4</td>\n",
       "      <td>2</td>\n",
       "      <td>21</td>\n",
       "    </tr>\n",
       "    <tr>\n",
       "      <th>Error Free</th>\n",
       "      <td>9</td>\n",
       "      <td>2</td>\n",
       "      <td>20</td>\n",
       "      <td>18</td>\n",
       "      <td>16</td>\n",
       "      <td>206</td>\n",
       "    </tr>\n",
       "  </tbody>\n",
       "</table>\n",
       "</div>"
      ],
      "text/plain": [
       "Indonesia     Defective                       Error Free                      \n",
       "Malta         Defective Error Free             Defective Error Free           \n",
       "India        Error Free  Defective Error Free Error Free  Defective Error Free\n",
       "Phillippines                                                                  \n",
       "Defective             0          0          2          4          2         21\n",
       "Error Free            9          2         20         18         16        206"
      ]
     },
     "execution_count": 28,
     "metadata": {},
     "output_type": "execute_result"
    }
   ],
   "source": [
    "# Cross-tabulate the data to obtain a contingency table\n",
    "\n",
    "cross_table = pd.crosstab(data['Phillippines'], [data['Indonesia'], data['Malta'], data['India']])\n",
    "cross_table"
   ]
  },
  {
   "cell_type": "code",
   "execution_count": null,
   "id": "0fc0b46f",
   "metadata": {},
   "outputs": [],
   "source": [
    "H0 : The defective percentage does not vary significantly among the centers\n",
    "H1 : The defective percentage varies significantly among the centers.     "
   ]
  },
  {
   "cell_type": "code",
   "execution_count": 19,
   "id": "7cf54756",
   "metadata": {},
   "outputs": [
    {
     "data": {
      "text/plain": [
       "0.6845505149379718"
      ]
     },
     "execution_count": 19,
     "metadata": {},
     "output_type": "execute_result"
    }
   ],
   "source": [
    "# Perform chi-square test of independence\n",
    "\n",
    "chi2_stat, p_value, dof, expected_values = chi2_contingency(cross_table)\n",
    "p_value"
   ]
  },
  {
   "cell_type": "code",
   "execution_count": 29,
   "id": "696c11c9",
   "metadata": {},
   "outputs": [
    {
     "name": "stdout",
     "output_type": "stream",
     "text": [
      "The defective percentage does not vary significantly among the centers.\n"
     ]
    }
   ],
   "source": [
    "# Print the results\n",
    "\n",
    "\n",
    "if p_value < 0.05:\n",
    "    \n",
    "    print(\"The defective percentage varies significantly among the centers.\")\n",
    "    \n",
    "else:\n",
    "    \n",
    "    print(\"The defective percentage does not vary significantly among the centers.\")\n"
   ]
  },
  {
   "cell_type": "markdown",
   "id": "5d64b804",
   "metadata": {},
   "source": [
    "In this code, we first use `pandas` to read the data from the CSV file. Next, we create a contingency table using `pd.crosstab()` to represent the counts of error-free and defective forms for each center.\n",
    "\n",
    "Then, we apply the `chi2_contingency()` function from `scipy.stats` to perform the chi-square test. This function returns the chi-square statistic, p-value, degrees of freedom, and expected values.\n",
    "\n",
    "Finally, based on the p-value, we determine whether the defective percentage varies significantly among the centers or not. A p-value greter than 0.05 does not indicates a significant difference."
   ]
  }
 ],
 "metadata": {
  "kernelspec": {
   "display_name": "Python 3 (ipykernel)",
   "language": "python",
   "name": "python3"
  },
  "language_info": {
   "codemirror_mode": {
    "name": "ipython",
    "version": 3
   },
   "file_extension": ".py",
   "mimetype": "text/x-python",
   "name": "python",
   "nbconvert_exporter": "python",
   "pygments_lexer": "ipython3",
   "version": "3.10.9"
  }
 },
 "nbformat": 4,
 "nbformat_minor": 5
}
